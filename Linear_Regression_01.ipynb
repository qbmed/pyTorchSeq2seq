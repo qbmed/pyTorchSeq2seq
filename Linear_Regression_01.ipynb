{
  "nbformat": 4,
  "nbformat_minor": 0,
  "metadata": {
    "colab": {
      "name": "Linear Regression 01.ipynb",
      "provenance": [],
      "authorship_tag": "ABX9TyNZvs7aazctEu27hP6mR8bf",
      "include_colab_link": true
    },
    "kernelspec": {
      "name": "python3",
      "display_name": "Python 3"
    }
  },
  "cells": [
    {
      "cell_type": "markdown",
      "metadata": {
        "id": "view-in-github",
        "colab_type": "text"
      },
      "source": [
        "<a href=\"https://colab.research.google.com/github/qbmed/pyTorchSeq2seq/blob/master/Linear_Regression_01.ipynb\" target=\"_parent\"><img src=\"https://colab.research.google.com/assets/colab-badge.svg\" alt=\"Open In Colab\"/></a>"
      ]
    },
    {
      "cell_type": "code",
      "metadata": {
        "id": "Pm4h0pmkLjda",
        "colab_type": "code",
        "colab": {}
      },
      "source": [
        "import torch  "
      ],
      "execution_count": 0,
      "outputs": []
    },
    {
      "cell_type": "code",
      "metadata": {
        "id": "mICSVDgSNIsv",
        "colab_type": "code",
        "colab": {}
      },
      "source": [
        "w=torch.tensor(3.0,requires_grad=True)\n",
        "b=torch.tensor(1.0,requires_grad=True)"
      ],
      "execution_count": 0,
      "outputs": []
    },
    {
      "cell_type": "code",
      "metadata": {
        "id": "hgshnZGwNgEQ",
        "colab_type": "code",
        "colab": {}
      },
      "source": [
        "def forward(x):\n",
        "  return w*x+b"
      ],
      "execution_count": 0,
      "outputs": []
    },
    {
      "cell_type": "code",
      "metadata": {
        "id": "3qcomCBaPP8Q",
        "colab_type": "code",
        "outputId": "17b26b28-d632-4376-8204-46d82447652c",
        "colab": {
          "base_uri": "https://localhost:8080/",
          "height": 51
        }
      },
      "source": [
        "x=torch.tensor([[4],[7]])\n",
        "forward(x)"
      ],
      "execution_count": 0,
      "outputs": [
        {
          "output_type": "execute_result",
          "data": {
            "text/plain": [
              "tensor([[13.],\n",
              "        [22.]], grad_fn=<AddBackward0>)"
            ]
          },
          "metadata": {
            "tags": []
          },
          "execution_count": 12
        }
      ]
    },
    {
      "cell_type": "markdown",
      "metadata": {
        "id": "kwva0-cBOUFH",
        "colab_type": "text"
      },
      "source": [
        "# Nouvelle section"
      ]
    }
  ]
}