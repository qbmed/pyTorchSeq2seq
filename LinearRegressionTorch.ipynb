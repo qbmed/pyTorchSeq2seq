{
  "nbformat": 4,
  "nbformat_minor": 0,
  "metadata": {
    "colab": {
      "name": "LinearRegressionTorch.ipynb",
      "provenance": [],
      "collapsed_sections": [],
      "authorship_tag": "ABX9TyPSJ2vK2e9qfWd5VQS5Ubpu",
      "include_colab_link": true
    },
    "kernelspec": {
      "name": "python3",
      "display_name": "Python 3"
    }
  },
  "cells": [
    {
      "cell_type": "markdown",
      "metadata": {
        "id": "view-in-github",
        "colab_type": "text"
      },
      "source": [
        "<a href=\"https://colab.research.google.com/github/qbmed/pyTorchSeq2seq/blob/master/LinearRegressionTorch.ipynb\" target=\"_parent\"><img src=\"https://colab.research.google.com/assets/colab-badge.svg\" alt=\"Open In Colab\"/></a>"
      ]
    },
    {
      "cell_type": "code",
      "metadata": {
        "id": "I1eewvuJLw_7",
        "colab_type": "code",
        "colab": {}
      },
      "source": [
        "import torch\n",
        "import torch.nn as nn\n",
        "import matplotlib.pyplot as plt\n",
        "import numpy as np"
      ],
      "execution_count": 0,
      "outputs": []
    },
    {
      "cell_type": "code",
      "metadata": {
        "id": "Jz22kLfAuPc6",
        "colab_type": "code",
        "outputId": "9a23f8cb-bcb8-46ec-e287-8ec8f959304d",
        "colab": {
          "base_uri": "https://localhost:8080/",
          "height": 279
        }
      },
      "source": [
        "X=10*torch.randn(100,1)\n",
        "y=X+3*torch.randn(100,1)\n",
        "plt.plot(X.numpy(),y.numpy(),'o')\n",
        "plt.xlabel('X')\n",
        "plt.ylabel('Y')\n",
        "plt.grid(True)"
      ],
      "execution_count": 38,
      "outputs": [
        {
          "output_type": "display_data",
          "data": {
            "image/png": "[encoded data removed]",
            "text/plain": [
              "<Figure size 432x288 with 1 Axes>"
            ]
          },
          "metadata": {
            "tags": [],
            "needs_background": "light"
          }
        }
      ]
    },
    {
      "cell_type": "code",
      "metadata": {
        "id": "ko1bUlMdX3mn",
        "colab_type": "code",
        "colab": {}
      },
      "source": [
        "class LR(nn.Module):\n",
        "  def __init__(self,input_size,output_size):\n",
        "    super().__init__()\n",
        "    self.linear=nn.Linear(input_size,output_size)\n",
        "  def forward(self,x):\n",
        "    return self.linear(x)"
      ],
      "execution_count": 0,
      "outputs": []
    },
    {
      "cell_type": "code",
      "metadata": {
        "id": "yOIZoXsEbFnA",
        "colab_type": "code",
        "outputId": "46370fb2-0d48-4223-bb7e-765052de2f6d",
        "colab": {
          "base_uri": "https://localhost:8080/",
          "height": 68
        }
      },
      "source": [
        "torch.manual_seed(1)\n",
        "model=LR(1,1)\n",
        "print(model)"
      ],
      "execution_count": 40,
      "outputs": [
        {
          "output_type": "stream",
          "text": [
            "LR(\n",
            "  (linear): Linear(in_features=1, out_features=1, bias=True)\n",
            ")\n"
          ],
          "name": "stdout"
        }
      ]
    },
    {
      "cell_type": "code",
      "metadata": {
        "id": "VYrtW-A2yrqJ",
        "colab_type": "code",
        "colab": {}
      },
      "source": [
        "[w,b]=model.parameters()\n",
        "def get_params():\n",
        "  return (w[0][0].item(),b[0].item())"
      ],
      "execution_count": 0,
      "outputs": []
    },
    {
      "cell_type": "code",
      "metadata": {
        "id": "C4XSGQkbzpAn",
        "colab_type": "code",
        "colab": {}
      },
      "source": [
        "def plot_fit(title):\n",
        "  plt.title=title\n",
        "  w1,b1=get_params()\n",
        "  x1=np.array([-30,30])\n",
        "  y1=w1*x1+b1\n",
        "  plt.plot(x1,y1,'r')\n",
        "  plt.scatter(X,y)\n",
        "  plt.grid(True)\n",
        "  plt.xlabel('X')\n",
        "  plt.ylabel('Y')\n",
        "  plt.show()"
      ],
      "execution_count": 0,
      "outputs": []
    },
    {
      "cell_type": "code",
      "metadata": {
        "id": "yytPh0R60qNf",
        "colab_type": "code",
        "outputId": "d52aecb8-16a2-4008-cd52-a74405ef3e3c",
        "colab": {
          "base_uri": "https://localhost:8080/",
          "height": 279
        }
      },
      "source": [
        "plot_fit('Initial Model')"
      ],
      "execution_count": 43,
      "outputs": [
        {
          "output_type": "display_data",
          "data": {
            "image/png": "[encoded data removed]",
            "text/plain": [
              "<Figure size 432x288 with 1 Axes>"
            ]
          },
          "metadata": {
            "tags": [],
            "needs_background": "light"
          }
        }
      ]
    },
    {
      "cell_type": "code",
      "metadata": {
        "id": "TELthM1a_Qu4",
        "colab_type": "code",
        "colab": {}
      },
      "source": [
        "criterion=nn.MSELoss(reduction='mean')\n",
        "optimizer=torch.optim.SGD(model.parameters(),lr=0.009)"
      ],
      "execution_count": 0,
      "outputs": []
    },
    {
      "cell_type": "code",
      "metadata": {
        "id": "D6icGa7o_3dF",
        "colab_type": "code",
        "outputId": "6082d699-4ac1-49ee-c320-7df48477334f",
        "colab": {
          "base_uri": "https://localhost:8080/",
          "height": 1000
        }
      },
      "source": [
        "epochs=100\n",
        "losses=[]\n",
        "for i in range(epochs):\n",
        "  y_pred=model.forward(X)\n",
        "  loss=criterion(y_pred,y)\n",
        "  print('epoch:',i,' loss:',loss.item())\n",
        "\n",
        "  losses.append(loss)\n",
        "  optimizer.zero_grad()\n",
        "  loss.backward()\n",
        "  optimizer.step()"
      ],
      "execution_count": 45,
      "outputs": [
        {
          "output_type": "stream",
          "text": [
            "epoch: 0  loss: 36.448333740234375\n",
            "epoch: 1  loss: 31.844823837280273\n",
            "epoch: 2  loss: 27.999404907226562\n",
            "epoch: 3  loss: 24.787147521972656\n",
            "epoch: 4  loss: 22.103687286376953\n",
            "epoch: 5  loss: 19.861902236938477\n",
            "epoch: 6  loss: 17.988998413085938\n",
            "epoch: 7  loss: 16.424192428588867\n",
            "epoch: 8  loss: 15.116715431213379\n",
            "epoch: 9  loss: 14.024175643920898\n",
            "epoch: 10  loss: 13.111157417297363\n",
            "epoch: 11  loss: 12.348084449768066\n",
            "epoch: 12  loss: 11.710262298583984\n",
            "epoch: 13  loss: 11.1770658493042\n",
            "epoch: 14  loss: 10.731258392333984\n",
            "epoch: 15  loss: 10.358454704284668\n",
            "epoch: 16  loss: 10.046642303466797\n",
            "epoch: 17  loss: 9.785774230957031\n",
            "epoch: 18  loss: 9.56747817993164\n",
            "epoch: 19  loss: 9.384745597839355\n",
            "epoch: 20  loss: 9.231731414794922\n",
            "epoch: 21  loss: 9.103548049926758\n",
            "epoch: 22  loss: 8.996118545532227\n",
            "epoch: 23  loss: 8.906035423278809\n",
            "epoch: 24  loss: 8.830448150634766\n",
            "epoch: 25  loss: 8.766982078552246\n",
            "epoch: 26  loss: 8.713650703430176\n",
            "epoch: 27  loss: 8.66879653930664\n",
            "epoch: 28  loss: 8.631030082702637\n",
            "epoch: 29  loss: 8.599194526672363\n",
            "epoch: 30  loss: 8.5723237991333\n",
            "epoch: 31  loss: 8.549609184265137\n",
            "epoch: 32  loss: 8.530372619628906\n",
            "epoch: 33  loss: 8.514053344726562\n",
            "epoch: 34  loss: 8.500179290771484\n",
            "epoch: 35  loss: 8.488351821899414\n",
            "epoch: 36  loss: 8.47824764251709\n",
            "epoch: 37  loss: 8.469584465026855\n",
            "epoch: 38  loss: 8.462139129638672\n",
            "epoch: 39  loss: 8.45571231842041\n",
            "epoch: 40  loss: 8.450148582458496\n",
            "epoch: 41  loss: 8.445308685302734\n",
            "epoch: 42  loss: 8.441081047058105\n",
            "epoch: 43  loss: 8.437372207641602\n",
            "epoch: 44  loss: 8.434101104736328\n",
            "epoch: 45  loss: 8.431203842163086\n",
            "epoch: 46  loss: 8.42862319946289\n",
            "epoch: 47  loss: 8.426313400268555\n",
            "epoch: 48  loss: 8.424236297607422\n",
            "epoch: 49  loss: 8.422355651855469\n",
            "epoch: 50  loss: 8.420646667480469\n",
            "epoch: 51  loss: 8.419083595275879\n",
            "epoch: 52  loss: 8.417651176452637\n",
            "epoch: 53  loss: 8.416325569152832\n",
            "epoch: 54  loss: 8.41510009765625\n",
            "epoch: 55  loss: 8.413959503173828\n",
            "epoch: 56  loss: 8.412895202636719\n",
            "epoch: 57  loss: 8.411898612976074\n",
            "epoch: 58  loss: 8.41096019744873\n",
            "epoch: 59  loss: 8.410076141357422\n",
            "epoch: 60  loss: 8.4092378616333\n",
            "epoch: 61  loss: 8.408446311950684\n",
            "epoch: 62  loss: 8.407693862915039\n",
            "epoch: 63  loss: 8.406976699829102\n",
            "epoch: 64  loss: 8.406295776367188\n",
            "epoch: 65  loss: 8.405643463134766\n",
            "epoch: 66  loss: 8.405019760131836\n",
            "epoch: 67  loss: 8.404422760009766\n",
            "epoch: 68  loss: 8.403852462768555\n",
            "epoch: 69  loss: 8.403305053710938\n",
            "epoch: 70  loss: 8.402778625488281\n",
            "epoch: 71  loss: 8.402274131774902\n",
            "epoch: 72  loss: 8.401786804199219\n",
            "epoch: 73  loss: 8.401321411132812\n",
            "epoch: 74  loss: 8.400872230529785\n",
            "epoch: 75  loss: 8.400440216064453\n",
            "epoch: 76  loss: 8.400022506713867\n",
            "epoch: 77  loss: 8.399622917175293\n",
            "epoch: 78  loss: 8.399236679077148\n",
            "epoch: 79  loss: 8.39886474609375\n",
            "epoch: 80  loss: 8.398505210876465\n",
            "epoch: 81  loss: 8.398160934448242\n",
            "epoch: 82  loss: 8.397828102111816\n",
            "epoch: 83  loss: 8.397505760192871\n",
            "epoch: 84  loss: 8.397196769714355\n",
            "epoch: 85  loss: 8.396897315979004\n",
            "epoch: 86  loss: 8.39660930633545\n",
            "epoch: 87  loss: 8.396330833435059\n",
            "epoch: 88  loss: 8.396064758300781\n",
            "epoch: 89  loss: 8.395803451538086\n",
            "epoch: 90  loss: 8.395556449890137\n",
            "epoch: 91  loss: 8.39531421661377\n",
            "epoch: 92  loss: 8.3950834274292\n",
            "epoch: 93  loss: 8.394859313964844\n",
            "epoch: 94  loss: 8.39464282989502\n",
            "epoch: 95  loss: 8.394433975219727\n",
            "epoch: 96  loss: 8.394231796264648\n",
            "epoch: 97  loss: 8.394039154052734\n",
            "epoch: 98  loss: 8.393852233886719\n",
            "epoch: 99  loss: 8.393670082092285\n"
          ],
          "name": "stdout"
        }
      ]
    },
    {
      "cell_type": "code",
      "metadata": {
        "id": "qiB4fz8zJ3x2",
        "colab_type": "code",
        "colab": {
          "base_uri": "https://localhost:8080/",
          "height": 296
        },
        "outputId": "727673c9-5693-43c6-c82b-4ee6da8ee42e"
      },
      "source": [
        "plt.plot(range(epochs),losses)\n",
        "plt.grid(True)\n",
        "plt.xlabel('epoc')\n",
        "plt.ylabel('loss')"
      ],
      "execution_count": 46,
      "outputs": [
        {
          "output_type": "execute_result",
          "data": {
            "text/plain": [
              "Text(0, 0.5, 'loss')"
            ]
          },
          "metadata": {
            "tags": []
          },
          "execution_count": 46
        },
        {
          "output_type": "display_data",
          "data": {
            "image/png": "[encoded data removed]",
            "text/plain": [
              "<Figure size 432x288 with 1 Axes>"
            ]
          },
          "metadata": {
            "tags": [],
            "needs_background": "light"
          }
        }
      ]
    },
    {
      "cell_type": "code",
      "metadata": {
        "id": "v-dFZl2mLVo-",
        "colab_type": "code",
        "colab": {
          "base_uri": "https://localhost:8080/",
          "height": 279
        },
        "outputId": "e2a662ae-1ec5-493d-851d-997f56aca9d9"
      },
      "source": [
        "plot_fit('final')"
      ],
      "execution_count": 47,
      "outputs": [
        {
          "output_type": "display_data",
          "data": {
            "image/png": "[encoded data removed]",
            "text/plain": [
              "<Figure size 432x288 with 1 Axes>"
            ]
          },
          "metadata": {
            "tags": [],
            "needs_background": "light"
          }
        }
      ]
    }
  ]
}